{
 "metadata": {
  "name": "",
  "signature": "sha256:11312c7ec4115b3a248bc73456489aa4fe58e671c441159fa6a83d0ecf296e5b"
 },
 "nbformat": 3,
 "nbformat_minor": 0,
 "worksheets": []
}