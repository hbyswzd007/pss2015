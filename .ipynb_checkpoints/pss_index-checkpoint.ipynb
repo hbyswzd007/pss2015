{
 "metadata": {
  "name": "",
  "signature": "sha256:d4e1fd350b0c4d6798d78d013ba93af170aa554ca07bc97936655e3754d75a2f"
 },
 "nbformat": 3,
 "nbformat_minor": 0,
 "worksheets": [
  {
   "cells": [
    {
     "cell_type": "code",
     "collapsed": false,
     "input": [
      "from os import listdir\n",
      "for f in listdir(r\"./\"):\n",
      "    if f.endswith('.ipynb'):\n",
      "        print \"%-22s\\thttp://localhost:8888/notebooks/%s\"%(f, f)\n",
      "# from IPython.display import FileLink, FileLinks\n",
      "# FileLinks('.')"
     ],
     "language": "python",
     "metadata": {},
     "outputs": [
      {
       "output_type": "stream",
       "stream": "stdout",
       "text": [
        "pss0227_foreach.ipynb \thttp://localhost:8888/notebooks/pss0227_foreach.ipynb\n",
        "pss0227_if_else.ipynb \thttp://localhost:8888/notebooks/pss0227_if_else.ipynb\n",
        "pss0_nbview_skill.ipynb\thttp://localhost:8888/notebooks/pss0_nbview_skill.ipynb\n",
        "pss_index.ipynb       \thttp://localhost:8888/notebooks/pss_index.ipynb\n",
        "pss_nytime_api.ipynb  \thttp://localhost:8888/notebooks/pss_nytime_api.ipynb\n",
        "pss_plotly.ipynb      \thttp://localhost:8888/notebooks/pss_plotly.ipynb\n"
       ]
      }
     ],
     "prompt_number": 6
    },
    {
     "cell_type": "markdown",
     "metadata": {},
     "source": [
      "# What is \"Programming?\"\n",
      "- \u8003\u616e\u4e00\u500b\u72c0\u6cc1\uff0c\u6709\u4e00\u500b\u5f88\u5927\u7684\u6c34\u679c\u7c43\uff0c\u4e0d\u77e5\u9053\u6709\u5e7e\u7a2e\u6c34\u679c\uff0c\u4e5f\u4e0d\u77e5\u9053\u6709\u5e7e\u9846\uff0c\u4f60\u5fc5\u9808\u8981\u6578\u51fa\u5404\u7a2e\u6c34\u679c\u6709\u5e7e\u9846\uff0c\u4f60\u6703\u600e\u9ebc\u6578\uff1f\n",
      " - \u6709\u4e00\u7c43\u6c34\u679c fruit []\n",
      " - \u6709\u4e00\u500b\u8a08\u6578\u5340 fruit_count {}\n",
      " - for each \u5c0d\u7c43\u5b50fruit\u88e1\u9762\u6bcf\u4e00\u500b\u6c34\u679c\uff08\u5047\u8a2d\u53eb\u505af\uff09\n",
      "   - \u5982\u679c\u9019\u500b\u6c34\u679cf\u6c92\u51fa\u73fe\u904e if not has f\n",
      "   - \u5c31\u5728\u8a08\u6578\u5340fruit_count\u7d66\u8a72\u6c34\u679cf\u4e00\u500b\u8a08\u6578\u6a19\u7c64\uff0c\u9019\u500b\u6a19\u7c64\u4e00\u958b\u59cb\u7b49\u65bc0{f:0}\n",
      "   - \u5982\u679c\u9019\u500b\u6c34\u679cf\u6709\u51fa\u73fe\u904e\uff0c\u5c31\u76f4\u63a5\u628a\u8a72\u6c34\u679cf\u7684\u8a08\u6578\u6a19\u7c64\u5f80\u4e0a\u52a01\n",
      " "
     ]
    },
    {
     "cell_type": "code",
     "collapsed": false,
     "input": [
      "fruit = [1, 3, 2, 4, 3, 5, 6, 1, 3, 2, 4, 2, 1, 3, 1 ,3, 4, 2, 4]\n",
      "fruit_count = {}\n",
      "for f in fruit:\n",
      "    if not fruit_count.has_key(f):\n",
      "        fruit_count[f] = 0\n",
      "    fruit_count[f] = fruit_count[f] + 1"
     ],
     "language": "python",
     "metadata": {},
     "outputs": []
    },
    {
     "cell_type": "markdown",
     "metadata": {},
     "source": [
      "#pss0227_rundown\n",
      "1. Install - http://bit.ly/pss2015\n",
      "2. What is programming?\n",
      "3. Go through the syllabus\n",
      "4. What does the course differ from others?\n",
      "    * Compared with python and data science courses on [Coursera](https://www.coursera.org/).\n",
      "    * Compared with code.org - It's not so fun!\n",
      "    * Mapping the course - Why python? http://carlcheo.com/startcoding\n",
      "5. Life cycle of data\n",
      "    * Acquisition\n",
      "        * From APIs, e.g., twitter api, http://developer.nytimes.com/docs\n",
      "        * From formatted data http://data.gov.tw/    \n",
      "    * Processing\n",
      "        * Formatting according to the needs of visualization or interaction, e.g., http://bl.ocks.org/mbostock/4062045\n",
      "        * http://web.ntnu.edu.tw/~jirlong/demo/viz.html\n",
      "    * Computing\n",
      "        * Simulation\n",
      "        * Topic modeling\n",
      "        * Finding principal components\n",
      "    * Visualizing\n",
      "        * [Watch how the measles outbreak spreads when kids get vaccinated \u2013 and when they don't](http://www.theguardian.com/society/ng-interactive/2015/feb/05/-sp-watch-how-measles-outbreak-spreads-when-kids-get-vaccinated)\n",
      "    * Interaction\n",
      "        * http://muyueh.com/seeall/\n",
      "        * http://web.ntnu.edu.tw/~jirlong/demo/news_vis/v6.html\n",
      "6. See you next week."
     ]
    },
    {
     "cell_type": "code",
     "collapsed": false,
     "input": [
      "## code will be here"
     ],
     "language": "python",
     "metadata": {},
     "outputs": [],
     "prompt_number": 2
    },
    {
     "cell_type": "markdown",
     "metadata": {},
     "source": [
      "# Calculating the frequency of letters"
     ]
    },
    {
     "cell_type": "code",
     "collapsed": false,
     "input": [
      "import random\n",
      "letters = []\n",
      "for i in range(100):\n",
      "    letters.append(random.choice('abcdefghijklmnpouyt'))\n",
      "# letters = ['y', 'b', 'y', 'n', 'a', 'k', 't', 'i', 'm', 'y', 'h', 't', 'e', 'g', 'd', 'y', 'c', 'm', 'u', 'f', 'a', 'd', 'o', 'd', 'f', 'o', 'j', 'c', 'o', 'j', 'c', 'j', 'd', 'a', 'd', 'i', 'i', 'l', 'h', 'a', 't', 'd', 'e', 'f', 't', 'c', 't', 'e', 'o', 'o', 'k', 'y', 'b', 'h', 'f', 'a', 'o', 'o', 'u', 'a', 'm', 'a', 't', 'k', 'o', 'i', 'e', 'n', 'e', 'y', 'i', 'e', 'j', 'a', 'a', 'h', 'm', 'i', 'd', 'o', 'c', 'i', 'l', 'm', 'f', 'l', 'f', 'n', 'y', 'd', 'j', 'g', 'y', 'f', 'd', 'b', 'k', 'j', 'f', 'g']\n",
      "ldict = {}\n",
      "for l in letters:\n",
      "    if not ldict.has_key(l):\n",
      "        ldict[l] = 0\n",
      "    ldict[l] += 1\n",
      "print ldict"
     ],
     "language": "python",
     "metadata": {},
     "outputs": [
      {
       "output_type": "stream",
       "stream": "stdout",
       "text": [
        "{'a': 4, 'c': 8, 'b': 5, 'e': 9, 'd': 3, 'g': 6, 'f': 2, 'i': 7, 'h': 7, 'k': 3, 'j': 5, 'm': 6, 'l': 5, 'o': 8, 'n': 5, 'p': 2, 'u': 5, 't': 8, 'y': 2}\n"
       ]
      }
     ],
     "prompt_number": 3
    },
    {
     "cell_type": "markdown",
     "metadata": {},
     "source": [
      "# Syllabus\n",
      "* https://docs.google.com/document/d/1Ff4Bzufrc-kw40OQmUQsSwE5cPKdQH3e0Uh4VL_E9Fo/edit?usp=sharing\n",
      "## Live cases\n",
      "* [Keywords trend of an academic jounral](http://web.ntnu.edu.tw/~jirlong/demo/KeywordTrendbyYear.html) powered by d3.js.\n",
      "* [App timeline of mobile phone in an individual's daily life](http://web.ntnu.edu.tw/~jirlong/demo/app_timeline.html) powered by google chart API.\n",
      "* [Browsing history timeline on personal computer](http://web.ntnu.edu.tw/~jirlong/demo/viz.html) powered by google chart API.\n",
      "* [Hashtag network expended by CongressOccupied](https://www.google.com/fusiontables/embedviz?containerId=googft-gviz-canvas&viz=GVIZ&t=GRAPH&gc=false&gd=false&sdb=1&rmax=100000&q=select+col0%2C+col1%2C+col2+from+1jkPGyy0knSQYpqDjOF29p8QaSmdwnD-26TCYqlWf&qrs=+where+col0+%3E%3D+&qre=+and+col0+%3C%3D+&qe=&uiversion=2&state=%7B%22ps%22%3A%221_2_-2c_-5_1_-5i_-g_3_-1q_w_0_-6g_b_4_-4y_o_f_-39_v_5_-2i_18_6_-5u_s_8_6v_-18_k_-3r_-t_7_73_-1v_a_-1a_-8_h_3j_-15_j_-2v_-1b_l_-32_-s_e_64_2c_c_61_1o_d_5h_23_b_-15_d_9_-6j_-n_g_33_-1p_i_3r_-1u_q_7j_-10_t_7r_-1m_m_-4q_-5_s_-45_16_u_-1m_-w_x_6b_-1s_p_-5f_-1b_o_83_1y_n_83_1c_r_3n_-g_v_-5x_-18_w_-79_k_%22%2C%22cx%22%3A23.383143588722103%2C%22cy%22%3A33.40226808840736%2C%22sw%22%3A724.8552114303483%2C%22sh%22%3A330.43580980561217%2C%22z%22%3A0.9981234465220551%7D&gco_forceIFrame=true&gco_hasLabelsColumn=true&width=2048&height=1024) powered by google fusion table.\n",
      "## Best outcomes\n",
      "* http://localhost:8888/notebooks/pss_plotly.ipynb\n"
     ]
    },
    {
     "cell_type": "markdown",
     "metadata": {},
     "source": [
      "#What inspires us programming\n",
      "- https://www.youtube.com/watch?v=6XvmhE1J9PY"
     ]
    },
    {
     "cell_type": "code",
     "collapsed": false,
     "input": [
      "from IPython.display import YouTubeVideo\n",
      "YouTubeVideo('6XvmhE1J9PY')"
     ],
     "language": "python",
     "metadata": {},
     "outputs": [
      {
       "html": [
        "\n",
        "        <iframe\n",
        "            width=\"400\"\n",
        "            height=300\"\n",
        "            src=\"https://www.youtube.com/embed/6XvmhE1J9PY\"\n",
        "            frameborder=\"0\"\n",
        "            allowfullscreen\n",
        "        ></iframe>\n",
        "        "
       ],
       "metadata": {},
       "output_type": "pyout",
       "prompt_number": 3,
       "text": [
        "<IPython.lib.display.YouTubeVideo at 0x1069489d0>"
       ]
      }
     ],
     "prompt_number": 3
    },
    {
     "cell_type": "markdown",
     "metadata": {},
     "source": [
      "# Next week\n",
      "* Complete a coding game (Elsa, flappy bird, or angry bird) on http://code.org/\n",
      "* Upload the screenshot of your progress to http://moodle2.ntnu.edu.tw/, pswd:123456"
     ]
    }
   ],
   "metadata": {}
  }
 ]
}