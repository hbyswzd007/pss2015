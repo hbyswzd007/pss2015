{
 "metadata": {
  "name": "",
  "signature": "sha256:dff51fa0b3a6bf5eae2e80dccf264f7d2ebd49a8efc4958295c724f0e9402a82"
 },
 "nbformat": 3,
 "nbformat_minor": 0,
 "worksheets": [
  {
   "cells": [
    {
     "cell_type": "code",
     "collapsed": false,
     "input": [
      "import urllib2\n",
      "import json\n",
      "url = 'http://api.nytimes.com/svc/search/v2/articlesearch.json?q=obama&sort=newest&api-key=42dd121e2c2a0831e53bdc4a34af9471%3A7%3A53741586'\n",
      "response = urllib2.urlopen(url)\n",
      "jsonresponse = json.load(response)"
     ],
     "language": "python",
     "metadata": {},
     "outputs": [],
     "prompt_number": 1
    },
    {
     "cell_type": "code",
     "collapsed": false,
     "input": [
      "print jsonresponse['response']['docs'][2].keys()\n",
      "print len(jsonresponse['response']['docs'])\n",
      "# print jsonresponse['response']['docs'][2]['keywords']\n",
      "if len(jsonresponse['response']['docs'])>=1:\n",
      "    for article in jsonresponse['response']['docs']:\n",
      "        print article['lead_paragraph']"
     ],
     "language": "python",
     "metadata": {},
     "outputs": [
      {
       "output_type": "stream",
       "stream": "stdout",
       "text": [
        "[u'type_of_material', u'blog', u'news_desk', u'lead_paragraph', u'headline', u'abstract', u'print_page', u'word_count', u'_id', u'snippet', u'source', u'web_url', u'multimedia', u'subsection_name', u'keywords', u'byline', u'document_type', u'pub_date', u'section_name']\n",
        "10\n",
        "Mysterious objects were spotted near Les Invalides and Place de la Concorde, raising concerns a month after deadly attacks in the Paris area.\n",
        "This week, President Obama and Republicans have swung between advocating a muscular assertion of executive authority and seeking to circumscribe it.\n",
        "Hamstrung by a federal court, President Obama is taking his pulpit to Miami to exact a political price from Republicans who oppose his immigration policy.\n",
        "The remarks by Susan E. Rice, the national security adviser, were the administration\u2019s strongest public rebuke since Prime Minister Benjamin Netanyahu of Israel agreed to speak to Congress.\n",
        "A memorial service for Louise Wilson, an influential professor and mentor, drew fond tributes from a wide array of tastemakers.\n",
        "President Obama gets the full story.\n",
        "None\n",
        "None\n",
        "A top adviser to President Barack Obama sharply criticized Israeli Prime Minister Benjamin Netanyahu's plans to address Congress next week, calling the move \"destructive\" to the ties between the U.S. and Israel.\n",
        "How King v. Burwell, the latest Supreme Court challenge to the Affordable Care Act, could create two American health care systems divided by access to care.\n"
       ]
      }
     ],
     "prompt_number": 2
    },
    {
     "cell_type": "code",
     "collapsed": false,
     "input": [],
     "language": "python",
     "metadata": {},
     "outputs": []
    }
   ],
   "metadata": {}
  }
 ]
}