{
 "metadata": {
  "name": "",
  "signature": "sha256:a12b99dac90267abe6f86079472d3f2876112e98f945aee178383c1192d42819"
 },
 "nbformat": 3,
 "nbformat_minor": 0,
 "worksheets": [
  {
   "cells": [
    {
     "cell_type": "code",
     "collapsed": false,
     "input": [
      "#v4w8gftexm\n",
      "# import plotly\n",
      "# plotly.tools.set_credentials_file(username='jirlong', api_key='v4w8gftexm', stream_ids=['83ldc19jb9', 'p0yj8ph8qx'])\n",
      "import plotly.plotly as py\n",
      "py.sign_in('jirlong', 'v4w8gftexm')\n",
      "from plotly.graph_objs import *\n",
      "import numpy as np\n",
      "\n",
      "x = np.random.randn(500)\n",
      "y = np.random.randn(500)+1\n",
      "\n",
      "data = Data([\n",
      "    Histogram2d(\n",
      "        x=x,\n",
      "        y=y\n",
      "    )\n",
      "])\n",
      "plot_url = py.plot(data, filename='2d-histogram')\n",
      "print plot_url"
     ],
     "language": "python",
     "metadata": {},
     "outputs": [
      {
       "output_type": "stream",
       "stream": "stdout",
       "text": [
        "https://plot.ly/~jirlong/21\n"
       ]
      }
     ],
     "prompt_number": 9
    },
    {
     "cell_type": "code",
     "collapsed": false,
     "input": [
      "from IPython.display import HTML\n",
      "\n",
      "def show_plot(url, width=700, height=500):\n",
      "    s = '<iframe height=\"%s\" id=\"igraph\" scrolling=\"no\" seamless=\"seamless\" src=\"%s\" width=\"%s\"></iframe>' %\\\n",
      "    (height+50, \"/\".join(map(str,[url, width, height])), width+50)\n",
      "    return HTML(s)\n",
      "show_plot(plot_url)"
     ],
     "language": "python",
     "metadata": {},
     "outputs": [
      {
       "html": [
        "<iframe height=\"550\" id=\"igraph\" scrolling=\"no\" seamless=\"seamless\" src=\"https://plot.ly/~jirlong/21/700/500\" width=\"750\"></iframe>"
       ],
       "metadata": {},
       "output_type": "pyout",
       "prompt_number": 7,
       "text": [
        "<IPython.core.display.HTML at 0x10f0e4ed0>"
       ]
      }
     ],
     "prompt_number": 7
    },
    {
     "cell_type": "markdown",
     "metadata": {},
     "source": [
      "# Visualizing histogram by plot.ly\n",
      "- https://plot.ly/ipython-notebooks/"
     ]
    },
    {
     "cell_type": "code",
     "collapsed": false,
     "input": [
      "import random\n",
      "grades = []\n",
      "for i in range(1000):\n",
      "    grades.append(random.randrange(1, 101))\n",
      "data = Data([Histogram(x=grades)])\n",
      "plot_url = py.plot(data, filename='basic-histogram')\n",
      "show_plot(plot_url)"
     ],
     "language": "python",
     "metadata": {},
     "outputs": [
      {
       "html": [
        "<iframe height=\"550\" id=\"igraph\" scrolling=\"no\" seamless=\"seamless\" src=\"https://plot.ly/~jirlong/29/700/500\" width=\"750\"></iframe>"
       ],
       "metadata": {},
       "output_type": "pyout",
       "prompt_number": 10,
       "text": [
        "<IPython.core.display.HTML at 0x10f1221d0>"
       ]
      }
     ],
     "prompt_number": 10
    },
    {
     "cell_type": "markdown",
     "metadata": {},
     "source": [
      "# Convert matplotlib to plot.ly\n",
      "* https://plot.ly/matplotlib/"
     ]
    },
    {
     "cell_type": "code",
     "collapsed": false,
     "input": [
      "import string\n",
      "import matplotlib.pyplot as plt\n",
      "sentences = 'All men have stars, but they are not the same things for different people. For some, who are travelers, the stars are guides. For others they are no more than little lights in the sky. For others, who are scholars, they are problems... But all these stars are silent. You-You alone will have stars as no one else has them... In one of the stars I shall be living. In one of them I shall be laughing. And so it will be as if all the stars will be laughing when you look at the sky at night..You, only you, will have stars that can laugh! And when your sorrow is comforted (time soothes all sorrows) you will be content that you have known me... You will always be my friend. You will want to laugh with me. And you will sometimes open your window, so, for that pleasure... It will be as if, in place of the stars, I had given you a great number of little bells that knew how to laugh'\n",
      "sentences = sentences.translate(None, string.punctuation)\n",
      "sentences = sentences.lower()\n",
      "wdict = {}\n",
      "for word in sentences.split():\n",
      "    if not wdict.has_key(word):\n",
      "        wdict[word] = 0\n",
      "    wdict[word] += 1\n",
      "for f, q in sorted(((freq, word) for word, freq in wdict.items()), reverse=True):\n",
      "    print f, q\n",
      "fig, ax = plt.subplots()\n",
      "ax.hist(wdict.values(), facecolor='green', alpha=0.5)\n",
      "plot_url = py.plot_mpl(fig)"
     ],
     "language": "python",
     "metadata": {},
     "outputs": [
      {
       "output_type": "stream",
       "stream": "stdout",
       "text": [
        "9 will\n",
        "8 you\n",
        "8 stars\n",
        "7 the\n",
        "7 be\n",
        "7 are\n",
        "5 for\n",
        "4 that\n",
        "4 of\n",
        "4 in\n",
        "4 have\n",
        "4 all\n",
        "3 they\n",
        "3 one\n",
        "3 laugh\n",
        "3 i\n",
        "3 as\n",
        "3 and\n",
        "2 your\n",
        "2 who\n",
        "2 when\n",
        "2 to\n",
        "2 them\n",
        "2 so\n",
        "2 sky\n",
        "2 shall\n",
        "2 others\n",
        "2 no\n",
        "2 me\n",
        "2 little\n",
        "2 laughing\n",
        "2 it\n",
        "2 if\n",
        "2 but\n",
        "2 at\n",
        "1 youyou\n",
        "1 with\n",
        "1 window\n",
        "1 want\n",
        "1 travelers\n",
        "1 time\n",
        "1 things\n",
        "1 these\n",
        "1 than\n",
        "1 sorrows\n",
        "1 sorrow\n",
        "1 soothes\n",
        "1 sometimes\n",
        "1 some\n",
        "1 silent\n",
        "1 scholars\n",
        "1 same\n",
        "1 problems\n",
        "1 pleasure\n",
        "1 place\n",
        "1 people\n",
        "1 open\n",
        "1 only\n",
        "1 number\n",
        "1 not\n",
        "1 nightyou\n",
        "1 my\n",
        "1 more\n",
        "1 men\n",
        "1 look\n",
        "1 living\n",
        "1 lights\n",
        "1 known\n",
        "1 knew\n",
        "1 is\n",
        "1 how\n",
        "1 has\n",
        "1 had\n",
        "1 guides\n",
        "1 great\n",
        "1 given\n",
        "1 friend\n",
        "1 else\n",
        "1 different\n",
        "1 content\n",
        "1 comforted\n",
        "1 can\n",
        "1 bells\n",
        "1 always\n",
        "1 alone\n",
        "1 a\n"
       ]
      }
     ],
     "prompt_number": 13
    },
    {
     "cell_type": "code",
     "collapsed": false,
     "input": [],
     "language": "python",
     "metadata": {},
     "outputs": []
    }
   ],
   "metadata": {}
  }
 ]
}