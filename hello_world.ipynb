{
 "metadata": {
  "name": "",
  "signature": "sha256:6a53e3fd58d903a5059b5c96d5ebbdd2e0d80eb336b4399eb7cc740d8a688b66"
 },
 "nbformat": 3,
 "nbformat_minor": 0,
 "worksheets": [
  {
   "cells": [
    {
     "cell_type": "code",
     "collapsed": false,
     "input": [
      "a = \"12345\"\n",
      "print a\n",
      "print type(a)"
     ],
     "language": "python",
     "metadata": {},
     "outputs": [
      {
       "output_type": "stream",
       "stream": "stdout",
       "text": [
        "12345\n",
        "<type 'str'>\n"
       ]
      }
     ],
     "prompt_number": 6
    },
    {
     "cell_type": "code",
     "collapsed": false,
     "input": [
      "print \"12345\"\n",
      "print 1+2+3+4+6\n",
      "print \"12345\", \"45678\"\n",
      "print 255*25\n",
      "print (255+25)*(1+3)"
     ],
     "language": "python",
     "metadata": {},
     "outputs": [
      {
       "output_type": "stream",
       "stream": "stdout",
       "text": [
        "12345\n",
        "16\n",
        "12345 45678\n",
        "6375\n",
        "1120\n"
       ]
      }
     ],
     "prompt_number": 10
    },
    {
     "cell_type": "markdown",
     "metadata": {},
     "source": [
      "# Data type\n",
      "* int: Integer \u6574\u6578\uff08\u6c92\u5c0f\u6578\u9ede\u7684\u6578\u5b57\uff09\n",
      "* float: floating point number \u6d6e\u9ede\u6578\uff08\u6709\u5c0f\u6578\u9ede\u7684\u6578\u5b57\uff09\n",
      "* str: string \u6587\u5b57\uff08\u5b57\u4e32\uff09"
     ]
    }
   ],
   "metadata": {}
  }
 ]
}