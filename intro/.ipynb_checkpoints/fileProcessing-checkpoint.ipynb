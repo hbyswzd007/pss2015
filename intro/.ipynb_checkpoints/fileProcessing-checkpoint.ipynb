{
 "metadata": {
  "name": "",
  "signature": "sha256:50c68c08678a4a5d71a89fe7a58caf50c36463af7551b9c433c2c83a97fd1dac"
 },
 "nbformat": 3,
 "nbformat_minor": 0,
 "worksheets": [
  {
   "cells": [
    {
     "cell_type": "markdown",
     "metadata": {},
     "source": [
      "# Read/Write json"
     ]
    },
    {
     "cell_type": "code",
     "collapsed": false,
     "input": [
      "# Basic operation \n",
      "import json\n",
      "# corrInfo = json.load(open('corrInfo.json'))\n",
      "# json.dump(AOIdict, open('AOI.json', 'wb'))"
     ],
     "language": "python",
     "metadata": {},
     "outputs": [],
     "prompt_number": 2
    },
    {
     "cell_type": "markdown",
     "metadata": {},
     "source": [
      "## Read youbike data as an example"
     ]
    },
    {
     "cell_type": "code",
     "collapsed": false,
     "input": [
      "import json\n",
      "import time\n",
      "t = time.time()\n",
      "now_str = time.strftime('%y%m%d%H%M', time.localtime(t))\n",
      "response = urllib2.urlopen('http://opendata.dot.taipei.gov.tw/opendata/gwjs_cityhall.json')\n",
      "data = json.load(response)\n",
      "f = open('%s.json'%(now_str), 'wb')\n",
      "json.dump(data, f)\n",
      "f.close()"
     ],
     "language": "python",
     "metadata": {},
     "outputs": []
    }
   ],
   "metadata": {}
  }
 ]
}