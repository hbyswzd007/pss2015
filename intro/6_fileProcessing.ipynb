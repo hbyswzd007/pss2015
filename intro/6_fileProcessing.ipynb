{
 "metadata": {
  "name": "",
  "signature": "sha256:450e8c71425461ba6ac7408e6b94e5a22da267a88a706d792b432bfd3d071b06"
 },
 "nbformat": 3,
 "nbformat_minor": 0,
 "worksheets": [
  {
   "cells": [
    {
     "cell_type": "markdown",
     "metadata": {},
     "source": [
      "# Read/Write json"
     ]
    },
    {
     "cell_type": "code",
     "collapsed": false,
     "input": [
      "# Basic operation \n",
      "import json\n",
      "# corrInfo = json.load(open('corrInfo.json'))\n",
      "# json.dump(AOIdict, open('AOI.json', 'wb'))"
     ],
     "language": "python",
     "metadata": {},
     "outputs": [],
     "prompt_number": 2
    },
    {
     "cell_type": "markdown",
     "metadata": {},
     "source": [
      "## Read youbike data as an example"
     ]
    },
    {
     "cell_type": "code",
     "collapsed": false,
     "input": [
      "# Read current time for naming the file\n",
      "import time\n",
      "t = time.time()\n",
      "now_str = time.strftime('%y%m%d%H%M', time.localtime(t))\n",
      "\n",
      "# Get response from data source by urllib2\n",
      "import urllib2\n",
      "response = urllib2.urlopen('http://opendata.dot.taipei.gov.tw/opendata/gwjs_cityhall.json')\n",
      "\n",
      "# Load the response and dump(save) the response to file\n",
      "import json\n",
      "data = json.load(response)\n",
      "f = open('%s.json'%(now_str), 'wb')\n",
      "json.dump(data, f)\n",
      "f.close()"
     ],
     "language": "python",
     "metadata": {},
     "outputs": [],
     "prompt_number": 3
    }
   ],
   "metadata": {}
  }
 ]
}