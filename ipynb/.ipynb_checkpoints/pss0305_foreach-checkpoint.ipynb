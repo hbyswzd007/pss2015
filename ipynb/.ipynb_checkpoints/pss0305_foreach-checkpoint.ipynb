{
 "cells": [
  {
   "cell_type": "markdown",
   "metadata": {},
   "source": [
    "# for-each problem\n",
    "- 考慮一個狀況，有一個很大的水果籃，不知道有幾種水果，也不知道有幾顆，你必須要數出各種水果有幾顆，你會怎麼數？\n",
    " - 有一籃水果 fruit []\n",
    " - 有一個計數區 fruit_count {}\n",
    " - 對籃子fruit裡面每一個水果（假設叫做f）\n",
    "   - 如果這個水果f沒出現過 if not has f\n",
    "   - 就在計數區fruit_count給該水果f一個計數標籤，這個標籤一開始等於0{f:0}\n",
    "   - 如果這個水果f有出現過，就直接把該水果f的計數標籤往上加1 "
   ]
  },
  {
   "cell_type": "code",
   "execution_count": null,
   "metadata": {
    "collapsed": false
   },
   "outputs": [],
   "source": [
    "# Initializing variable <--this is a list\n",
    "fruit = [1, 3, 2, 4, 3, 5, 6, 1, 3, 2, 4, 2, 1, 3, 1 ,3, 4, 2, 4]\n",
    "fruit_count = {}\n",
    "\n",
    "# for-loop to calculate the frequency of each fruit\n",
    "for x in fruit:\n",
    "    if not fruit_count.has_key(x):\n",
    "        fruit_count[x] = 0\n",
    "    fruit_count[x] = fruit_count[x] + 1\n",
    "\n",
    "# print out your result\n",
    "print fruit_count"
   ]
  },
  {
   "cell_type": "markdown",
   "metadata": {},
   "source": [
    "## for-each: using range()\n",
    "* 類似c++: for(int i=0; i<n; i++)\n",
    "* 以下的範例求取1+2+3+4+...+n的總數"
   ]
  },
  {
   "cell_type": "code",
   "execution_count": null,
   "metadata": {
    "collapsed": false
   },
   "outputs": [],
   "source": [
    "# code to generate summation\n",
    "ss = 0\n",
    "for i in range(10):\n",
    "#     ss = ss + i\n",
    "    ss += i\n",
    "print ss"
   ]
  },
  {
   "cell_type": "code",
   "execution_count": null,
   "metadata": {
    "collapsed": false
   },
   "outputs": [],
   "source": [
    "# code to generate average"
   ]
  },
  {
   "cell_type": "code",
   "execution_count": 2,
   "metadata": {
    "collapsed": false
   },
   "outputs": [
    {
     "name": "stdout",
     "output_type": "stream",
     "text": [
      "[0, 1, 2, 3, 4, 5, 6, 7, 8, 9]\n",
      "[1, 2, 3, 4, 5, 6, 7, 8, 9]\n"
     ]
    }
   ],
   "source": [
    "# the function of range()\n",
    "print range(10)\n",
    "print range(1, 10)"
   ]
  },
  {
   "cell_type": "markdown",
   "metadata": {},
   "source": [
    "## two methods to access list\n",
    "* Using index to access list --> for i in range(len(alist))\n",
    "* Accumulate each element of list sequentially ---> for a in alist:"
   ]
  },
  {
   "cell_type": "code",
   "execution_count": null,
   "metadata": {
    "collapsed": true
   },
   "outputs": [],
   "source": [
    "# Accumulate a list by for-loop\n",
    "grades = [46, 57, 68, 79, 89, 91, 74, 85, 96]\n",
    "ss = 0\n",
    "for i in range(8): # using index to access \n",
    "    ss += grades[i]\n",
    "ss = 0\n",
    "for g in grades:\n",
    "    ss += g"
   ]
  },
  {
   "cell_type": "code",
   "execution_count": null,
   "metadata": {
    "collapsed": false
   },
   "outputs": [],
   "source": [
    "## how to generate 9x9 table?\n",
    "# print a, b, ...The comma(,) means concatenation. \n",
    "# Another concatenation is PLUS(+), only workable when the data is \"string\" type\n",
    "for i in range(1, 10):\n",
    "    print i\n",
    "for i in range(1, 10):\n",
    "    print \"%d* = \"%i\n",
    "\n",
    "for i in range(1, 10):\n",
    "    for j in range(1, 10):\n",
    "        print \"%d*%d=%d \"%(i, j, i*j),"
   ]
  },
  {
   "cell_type": "markdown",
   "metadata": {},
   "source": [
    "# 函式 Function\n",
    "* 何謂函式？f(a) = ...,\n",
    "* 怎麼解釋上面這一行？給一a，把他傳給右邊，做一做，然後把結果利用Assign傳回（return）給左邊。\n",
    "* Varied forms of function\n",
    "    * y = f(a, b) = ...e.g., Given two values, return the maximum.\n",
    "    * x, y = f(alist) = ...e.g., Given a list, return the summation and average of it\n",
    "    * x, y, z = f(alist) = ...e.g., Given a list of news, return the maximal, minimal occurrences and the average occrrences.\n"
   ]
  },
  {
   "cell_type": "code",
   "execution_count": null,
   "metadata": {
    "collapsed": false
   },
   "outputs": [],
   "source": [
    "def my_function(n):\n",
    "    ss = 0\n",
    "    for i in range(n):\n",
    "        ss += i\n",
    "    return ss"
   ]
  },
  {
   "cell_type": "code",
   "execution_count": null,
   "metadata": {
    "collapsed": false
   },
   "outputs": [],
   "source": [
    "print my_function(12345)"
   ]
  },
  {
   "cell_type": "code",
   "execution_count": null,
   "metadata": {
    "collapsed": false
   },
   "outputs": [],
   "source": [
    "# return average and sum at the same time\n",
    "# be care that average shoud be a floating point number"
   ]
  },
  {
   "cell_type": "markdown",
   "metadata": {},
   "source": [
    "## 累計list Accumulating a list\n",
    "* Now we know range(10) means [0, 1, 2, 3, 4, 5, 6, 7, 8, 9]\n",
    "* How about accumulate a list"
   ]
  },
  {
   "cell_type": "code",
   "execution_count": null,
   "metadata": {
    "collapsed": false
   },
   "outputs": [],
   "source": [
    "alist = [1, 3, 2, 4, 1, 3, 4, 1, 5, 1, 6, 2, 6, 3, 7, 4]\n",
    "print len(alist)"
   ]
  },
  {
   "cell_type": "code",
   "execution_count": null,
   "metadata": {
    "collapsed": false
   },
   "outputs": [],
   "source": [
    "# return both average and summation"
   ]
  },
  {
   "cell_type": "markdown",
   "metadata": {},
   "source": [
    "## 使用內建函式 Using Built-in functions"
   ]
  },
  {
   "cell_type": "code",
   "execution_count": null,
   "metadata": {
    "collapsed": false
   },
   "outputs": [],
   "source": [
    "# Using sum(), len(), float(), ...\n",
    "print sum(alist)\n",
    "grades = [46, 57, 68, 79, 89, 91, 74, 85, 96]\n",
    "print sum(grades)/float(len(grades))"
   ]
  },
  {
   "cell_type": "markdown",
   "metadata": {},
   "source": [
    "## 匯入函式（import）Using third-party functions\n",
    "* e.g., numpy"
   ]
  },
  {
   "cell_type": "code",
   "execution_count": null,
   "metadata": {
    "collapsed": false
   },
   "outputs": [],
   "source": [
    "import numpy\n",
    "print numpy.std(alist)\n",
    "print numpy.average(alist)\n",
    "print numpy.sum(alist)\n",
    "print numpy.mean(alist)"
   ]
  },
  {
   "cell_type": "code",
   "execution_count": null,
   "metadata": {
    "collapsed": false
   },
   "outputs": [],
   "source": [
    "import scipy\n",
    "from scipy.stats import pearsonr\n",
    "# blist and alist should have equal length\n",
    "blist = [1, 3, 2, 4, 1, 3, 1, 3, 1, 4, 2, 4, 1, 3, 1, 4]\n",
    "x = scipy.array(alist)\n",
    "y = scipy.array(blist)\n",
    "r_row, p_value = pearsonr(x, y)\n",
    "print r_row\n",
    "print p_value"
   ]
  },
  {
   "cell_type": "markdown",
   "metadata": {},
   "source": [
    "# The Problem\n",
    "* 現在假設我們有全台北自來水廠取水口的水質檢測，我們可不可以知道，哪個地方一天（一月）水質的平均最好？變異數哪一個最高？而，取水口和取水口間是否有相關性？（例如都是從基隆河取水）"
   ]
  },
  {
   "cell_type": "markdown",
   "metadata": {},
   "source": [
    "# Calculating the frequency of letters"
   ]
  },
  {
   "cell_type": "code",
   "execution_count": null,
   "metadata": {
    "collapsed": false
   },
   "outputs": [],
   "source": [
    "import random\n",
    "letters = []\n",
    "for i in range(100):\n",
    "    letters.append(random.choice('abcdefghijklmnpouyt'))\n",
    "# letters = ['y', 'b', 'y', 'n', 'a', 'k', 't', 'i', 'm', 'y', 'h', 't', 'e', 'g', 'd', 'y', 'c', 'm', 'u', 'f', 'a', 'd', 'o', 'd', 'f', 'o', 'j', 'c', 'o', 'j', 'c', 'j', 'd', 'a', 'd', 'i', 'i', 'l', 'h', 'a', 't', 'd', 'e', 'f', 't', 'c', 't', 'e', 'o', 'o', 'k', 'y', 'b', 'h', 'f', 'a', 'o', 'o', 'u', 'a', 'm', 'a', 't', 'k', 'o', 'i', 'e', 'n', 'e', 'y', 'i', 'e', 'j', 'a', 'a', 'h', 'm', 'i', 'd', 'o', 'c', 'i', 'l', 'm', 'f', 'l', 'f', 'n', 'y', 'd', 'j', 'g', 'y', 'f', 'd', 'b', 'k', 'j', 'f', 'g']\n",
    "ldict = {}\n",
    "for l in letters:\n",
    "    if not ldict.has_key(l):\n",
    "        ldict[l] = 0\n",
    "    ldict[l] += 1\n",
    "print ldict"
   ]
  },
  {
   "cell_type": "markdown",
   "metadata": {},
   "source": [
    "# Calculating word frequency in a sentence"
   ]
  },
  {
   "cell_type": "code",
   "execution_count": null,
   "metadata": {
    "collapsed": false
   },
   "outputs": [],
   "source": [
    "sentences = 'All men have stars, but they are not the same things for different people. For some, who are travelers, the stars are guides. For others they are no more than little lights in the sky. For others, who are scholars, they are problems... But all these stars are silent. You-You alone will have stars as no one else has them... In one of the stars I shall be living. In one of them I shall be laughing. And so it will be as if all the stars will be laughing when you look at the sky at night..You, only you, will have stars that can laugh! And when your sorrow is comforted (time soothes all sorrows) you will be content that you have known me... You will always be my friend. You will want to laugh with me. And you will sometimes open your window, so, for that pleasure... It will be as if, in place of the stars, I had given you a great number of little bells that knew how to laugh'\n",
    "wdict = {}\n",
    "for word in sentences.split():\n",
    "    if not wdict.has_key(word):\n",
    "        wdict[word] = 0\n",
    "    wdict[word] += 1\n",
    "#     wdict[word] = wdict[word] + 1\n",
    "for word, freq in wdict.items():\n",
    "    print word, freq"
   ]
  },
  {
   "cell_type": "markdown",
   "metadata": {},
   "source": [
    "# Citizens voting their mayor 1~4"
   ]
  },
  {
   "cell_type": "code",
   "execution_count": null,
   "metadata": {
    "collapsed": false
   },
   "outputs": [],
   "source": [
    "votes = [1, 2, 3, 2, 4, 2, 4, 3, 1, 3, 1, 3, 1, 4, 2, 4, 2, 4]\n",
    "clist = [0, 0, 0, 0, 0]\n",
    "for v in votes:\n",
    "    clist[v] = clist[v] + 1\n",
    "#     clist[v] += 1\n",
    "print clist"
   ]
  },
  {
   "cell_type": "markdown",
   "metadata": {},
   "source": [
    "# Calculating the frequency of students' grades"
   ]
  },
  {
   "cell_type": "code",
   "execution_count": null,
   "metadata": {
    "collapsed": false
   },
   "outputs": [],
   "source": [
    "grades = [17, 65, 5, 74, 93, 1, 94, 16, 80, 95, 32, 78, 17, 70, 22, 43, 95, 67, 3, 30, 40, 51, 96, 17, 13, 21, 4, 47, 19, 44, 59, 6, 0, 83, 40, 89, 39, 57, 99, 35, 81, 31, 89, 63, 80, 85, 36, 60, 17, 68, 62, 36, 3, 28, 8, 38, 83, 73, 67, 2]\n",
    "glist = [0, 0, 0, 0, 0, 0, 0, 0, 0, 0]\n",
    "for g in grades:\n",
    "    glist[g/10] += 1\n",
    "print glist\n",
    "%matplotlib inline\n",
    "import matplotlib.pyplot as plt\n",
    "plt.hist(grades, 10, facecolor='green', alpha=0.5)"
   ]
  },
  {
   "cell_type": "code",
   "execution_count": null,
   "metadata": {
    "collapsed": false
   },
   "outputs": [],
   "source": [
    "import string\n",
    "sentences = 'All men have stars, but they are not the same things for different people. For some, who are travelers, the stars are guides. For others they are no more than little lights in the sky. For others, who are scholars, they are problems... But all these stars are silent. You-You alone will have stars as no one else has them... In one of the stars I shall be living. In one of them I shall be laughing. And so it will be as if all the stars will be laughing when you look at the sky at night..You, only you, will have stars that can laugh! And when your sorrow is comforted (time soothes all sorrows) you will be content that you have known me... You will always be my friend. You will want to laugh with me. And you will sometimes open your window, so, for that pleasure... It will be as if, in place of the stars, I had given you a great number of little bells that knew how to laugh'\n",
    "sentences = sentences.translate(None, string.punctuation)\n",
    "sentences = sentences.lower()\n",
    "wdict = {}\n",
    "for word in sentences.split():\n",
    "    if not wdict.has_key(word):\n",
    "        wdict[word] = 0\n",
    "    wdict[word] += 1\n",
    "for f, q in sorted(((freq, word) for word, freq in wdict.items()), reverse=True):\n",
    "    print f, q\n",
    "plt.hist(wdict.values(), facecolor='green', alpha=0.5)# hist:histogram"
   ]
  },
  {
   "cell_type": "code",
   "execution_count": null,
   "metadata": {
    "collapsed": false
   },
   "outputs": [],
   "source": [
    "# -*- coding: utf-8 -*-\n",
    "sentences = '和尚端湯上塔塔滑湯灑湯燙塔和尚端塔上湯湯滑塔灑塔燙湯'\n",
    "cdict = {}\n",
    "for ch in sentences.decode('utf-8'):\n",
    "    if not cdict.has_key(ch):\n",
    "        cdict[ch] = 0\n",
    "    cdict[ch] += 1\n",
    "print cdict\n",
    "for ch, f in cdict.items():\n",
    "    print ch, f"
   ]
  }
 ],
 "metadata": {
  "kernelspec": {
   "display_name": "Python 2",
   "language": "python",
   "name": "python2"
  },
  "language_info": {
   "codemirror_mode": {
    "name": "ipython",
    "version": 2
   },
   "file_extension": ".py",
   "mimetype": "text/x-python",
   "name": "python",
   "nbconvert_exporter": "python",
   "pygments_lexer": "ipython2",
   "version": "2.7.6"
  }
 },
 "nbformat": 4,
 "nbformat_minor": 0
}
