{
 "metadata": {
  "name": "",
  "signature": "sha256:c4114c1aba8efa40cd7d8eaabf1f26578a397ac65053cbdce7db6fa24d8ada0e"
 },
 "nbformat": 3,
 "nbformat_minor": 0,
 "worksheets": [
  {
   "cells": [
    {
     "cell_type": "markdown",
     "metadata": {},
     "source": [
      "http://localhost:8888/notebooks/pss_index.ipynb"
     ]
    },
    {
     "cell_type": "markdown",
     "metadata": {},
     "source": [
      "# For-each problem\n",
      "- \u8003\u616e\u4e00\u500b\u72c0\u6cc1\uff0c\u6709\u4e00\u500b\u5f88\u5927\u7684\u6c34\u679c\u7c43\uff0c\u4e0d\u77e5\u9053\u6709\u5e7e\u7a2e\u6c34\u679c\uff0c\u4e5f\u4e0d\u77e5\u9053\u6709\u5e7e\u9846\uff0c\u4f60\u5fc5\u9808\u8981\u6578\u51fa\u5404\u7a2e\u6c34\u679c\u6709\u5e7e\u9846\uff0c\u4f60\u6703\u600e\u9ebc\u6578\uff1f\n",
      " - \u6709\u4e00\u7c43\u6c34\u679c fruit []\n",
      " - \u6709\u4e00\u500b\u8a08\u6578\u5340 fruit_count {}\n",
      " - \u5c0d\u7c43\u5b50fruit\u88e1\u9762\u6bcf\u4e00\u500b\u6c34\u679c\uff08\u5047\u8a2d\u53eb\u505af\uff09\n",
      "   - \u5982\u679c\u9019\u500b\u6c34\u679cf\u6c92\u51fa\u73fe\u904e if not has f\n",
      "   - \u5c31\u5728\u8a08\u6578\u5340fruit_count\u7d66\u8a72\u6c34\u679cf\u4e00\u500b\u8a08\u6578\u6a19\u7c64\uff0c\u9019\u500b\u6a19\u7c64\u4e00\u958b\u59cb\u7b49\u65bc0{f:0}\n",
      "   - \u5982\u679c\u9019\u500b\u6c34\u679cf\u6709\u51fa\u73fe\u904e\uff0c\u5c31\u76f4\u63a5\u628a\u8a72\u6c34\u679cf\u7684\u8a08\u6578\u6a19\u7c64\u5f80\u4e0a\u52a01\n",
      " "
     ]
    },
    {
     "cell_type": "markdown",
     "metadata": {},
     "source": [
      "# Calculating the frequency of letters"
     ]
    },
    {
     "cell_type": "code",
     "collapsed": false,
     "input": [
      "import random\n",
      "letters = []\n",
      "for i in range(100):\n",
      "    letters.append(random.choice('abcdefghijklmnpouyt'))\n",
      "# letters = ['y', 'b', 'y', 'n', 'a', 'k', 't', 'i', 'm', 'y', 'h', 't', 'e', 'g', 'd', 'y', 'c', 'm', 'u', 'f', 'a', 'd', 'o', 'd', 'f', 'o', 'j', 'c', 'o', 'j', 'c', 'j', 'd', 'a', 'd', 'i', 'i', 'l', 'h', 'a', 't', 'd', 'e', 'f', 't', 'c', 't', 'e', 'o', 'o', 'k', 'y', 'b', 'h', 'f', 'a', 'o', 'o', 'u', 'a', 'm', 'a', 't', 'k', 'o', 'i', 'e', 'n', 'e', 'y', 'i', 'e', 'j', 'a', 'a', 'h', 'm', 'i', 'd', 'o', 'c', 'i', 'l', 'm', 'f', 'l', 'f', 'n', 'y', 'd', 'j', 'g', 'y', 'f', 'd', 'b', 'k', 'j', 'f', 'g']\n",
      "ldict = {}\n",
      "for l in letters:\n",
      "    if not ldict.has_key(l):\n",
      "        ldict[l] = 0\n",
      "    ldict[l] += 1\n",
      "print ldict"
     ],
     "language": "python",
     "metadata": {},
     "outputs": [
      {
       "output_type": "stream",
       "stream": "stdout",
       "text": [
        "{'a': 4, 'c': 8, 'b': 5, 'e': 9, 'd': 3, 'g': 6, 'f': 2, 'i': 7, 'h': 7, 'k': 3, 'j': 5, 'm': 6, 'l': 5, 'o': 8, 'n': 5, 'p': 2, 'u': 5, 't': 8, 'y': 2}\n"
       ]
      }
     ],
     "prompt_number": 3
    },
    {
     "cell_type": "markdown",
     "metadata": {},
     "source": [
      "# Calculating word frequency in a sentence"
     ]
    },
    {
     "cell_type": "code",
     "collapsed": false,
     "input": [
      "sentences = 'All men have stars, but they are not the same things for different people. For some, who are travelers, the stars are guides. For others they are no more than little lights in the sky. For others, who are scholars, they are problems... But all these stars are silent. You-You alone will have stars as no one else has them... In one of the stars I shall be living. In one of them I shall be laughing. And so it will be as if all the stars will be laughing when you look at the sky at night..You, only you, will have stars that can laugh! And when your sorrow is comforted (time soothes all sorrows) you will be content that you have known me... You will always be my friend. You will want to laugh with me. And you will sometimes open your window, so, for that pleasure... It will be as if, in place of the stars, I had given you a great number of little bells that knew how to laugh'\n",
      "wdict = {}\n",
      "for word in sentences.split():\n",
      "    if not wdict.has_key(word):\n",
      "        wdict[word] = 0\n",
      "    wdict[word] += 1\n",
      "#     wdict[word] = wdict[word] + 1\n",
      "for word, freq in wdict.items():\n",
      "    print word, freq"
     ],
     "language": "python",
     "metadata": {},
     "outputs": [
      {
       "output_type": "stream",
       "stream": "stdout",
       "text": [
        "silent. 1\n",
        "all 3\n",
        "how 1\n",
        "sky 1\n",
        "to 2\n",
        "only 1\n",
        "soothes 1\n",
        "if, 1\n",
        "has 1\n",
        "(time 1\n",
        "them 1\n",
        "they 3\n",
        "not 1\n",
        "sky. 1\n",
        "always 1\n",
        "stars, 2\n",
        "laughing 1\n",
        "For 3\n",
        "me... 1\n",
        "me. 1\n",
        "laughing. 1\n",
        "are 7\n",
        "others, 1\n",
        "scholars, 1\n",
        "for 2\n",
        "content 1\n",
        "lights 1\n",
        "problems... 1\n",
        "be 7\n",
        "knew 1\n",
        "sorrow 1\n",
        "men 1\n",
        "given 1\n",
        "others 1\n",
        "alone 1\n",
        "great 1\n",
        "of 4\n",
        "place 1\n",
        "had 1\n",
        "number 1\n",
        "comforted 1\n",
        "one 3\n",
        "laugh 2\n",
        "open 1\n",
        "your 2\n",
        "little 2\n",
        "sorrows) 1\n",
        "travelers, 1\n",
        "But 1\n",
        "stars 6\n",
        "guides. 1\n",
        "more 1\n",
        "you, 1\n",
        "that 4\n",
        "so, 1\n",
        "but 1\n",
        "else 1\n",
        "known 1\n",
        "with 1\n",
        "than 1\n",
        "And 3\n",
        "look 1\n",
        "these 1\n",
        "will 9\n",
        "can 1\n",
        "night..You, 1\n",
        "my 1\n",
        "friend. 1\n",
        "sometimes 1\n",
        "have 4\n",
        "is 1\n",
        "it 1\n",
        "as 3\n",
        "at 2\n",
        "want 1\n",
        "in 2\n",
        "You 2\n",
        "living. 1\n",
        "if 1\n",
        "different 1\n",
        "no 2\n",
        "things 1\n",
        "when 2\n",
        "same 1\n",
        "some, 1\n",
        "window, 1\n",
        "you 5\n",
        "bells 1\n",
        "shall 2\n",
        "I 3\n",
        "who 2\n",
        "laugh! 1\n",
        "a 1\n",
        "All 1\n",
        "people. 1\n",
        "them... 1\n",
        "It 1\n",
        "pleasure... 1\n",
        "so 1\n",
        "In 2\n",
        "You-You 1\n",
        "the 7\n"
       ]
      }
     ],
     "prompt_number": 1
    },
    {
     "cell_type": "markdown",
     "metadata": {},
     "source": [
      "# Citizens voting their mayor 1~4"
     ]
    },
    {
     "cell_type": "code",
     "collapsed": false,
     "input": [
      "votes = [1, 2, 3, 2, 4, 2, 4, 3, 1, 3, 1, 3, 1, 4, 2, 4, 2, 4]\n",
      "clist = [0, 0, 0, 0, 0]\n",
      "for v in votes:\n",
      "    clist[v] = clist[v] + 1\n",
      "#     clist[v] += 1\n",
      "print clist"
     ],
     "language": "python",
     "metadata": {},
     "outputs": [
      {
       "output_type": "stream",
       "stream": "stdout",
       "text": [
        "[0, 4, 5, 4, 5]\n"
       ]
      }
     ],
     "prompt_number": 6
    },
    {
     "cell_type": "markdown",
     "metadata": {},
     "source": [
      "# Calculating the frequency of students' grades"
     ]
    },
    {
     "cell_type": "code",
     "collapsed": false,
     "input": [
      "grades = [17, 65, 5, 74, 93, 1, 94, 16, 80, 95, 32, 78, 17, 70, 22, 43, 95, 67, 3, 30, 40, 51, 96, 17, 13, 21, 4, 47, 19, 44, 59, 6, 0, 83, 40, 89, 39, 57, 99, 35, 81, 31, 89, 63, 80, 85, 36, 60, 17, 68, 62, 36, 3, 28, 8, 38, 83, 73, 67, 2]\n",
      "glist = [0, 0, 0, 0, 0, 0, 0, 0, 0, 0]\n",
      "for g in grades:\n",
      "    glist[g/10] += 1\n",
      "print glist\n",
      "%matplotlib inline\n",
      "import matplotlib.pyplot as plt\n",
      "plt.hist(grades, 10, facecolor='green', alpha=0.5)"
     ],
     "language": "python",
     "metadata": {},
     "outputs": [
      {
       "output_type": "stream",
       "stream": "stdout",
       "text": [
        "[9, 7, 3, 8, 5, 3, 7, 4, 8, 6]\n"
       ]
      },
      {
       "metadata": {},
       "output_type": "pyout",
       "prompt_number": 27,
       "text": [
        "(array([ 9.,  7.,  3.,  8.,  5.,  3.,  7.,  4.,  8.,  6.]),\n",
        " array([  0. ,   9.9,  19.8,  29.7,  39.6,  49.5,  59.4,  69.3,  79.2,\n",
        "         89.1,  99. ]),\n",
        " <a list of 10 Patch objects>)"
       ]
      },
      {
       "metadata": {},
       "output_type": "display_data",
       "png": "[encoded data removed]",
       "text": [
        "<matplotlib.figure.Figure at 0x111d148d0>"
       ]
      }
     ],
     "prompt_number": 27
    },
    {
     "cell_type": "code",
     "collapsed": false,
     "input": [
      "import string\n",
      "sentences = 'All men have stars, but they are not the same things for different people. For some, who are travelers, the stars are guides. For others they are no more than little lights in the sky. For others, who are scholars, they are problems... But all these stars are silent. You-You alone will have stars as no one else has them... In one of the stars I shall be living. In one of them I shall be laughing. And so it will be as if all the stars will be laughing when you look at the sky at night..You, only you, will have stars that can laugh! And when your sorrow is comforted (time soothes all sorrows) you will be content that you have known me... You will always be my friend. You will want to laugh with me. And you will sometimes open your window, so, for that pleasure... It will be as if, in place of the stars, I had given you a great number of little bells that knew how to laugh'\n",
      "sentences = sentences.translate(None, string.punctuation)\n",
      "sentences = sentences.lower()\n",
      "wdict = {}\n",
      "for word in sentences.split():\n",
      "    if not wdict.has_key(word):\n",
      "        wdict[word] = 0\n",
      "    wdict[word] += 1\n",
      "for f, q in sorted(((freq, word) for word, freq in wdict.items()), reverse=True):\n",
      "    print f, q\n",
      "plt.hist(wdict.values(), facecolor='green', alpha=0.5)# hist:histogram"
     ],
     "language": "python",
     "metadata": {},
     "outputs": [
      {
       "output_type": "stream",
       "stream": "stdout",
       "text": [
        "9 will\n",
        "8 you\n",
        "8 stars\n",
        "7 the\n",
        "7 be\n",
        "7 are\n",
        "5 for\n",
        "4 that\n",
        "4 of\n",
        "4 in\n",
        "4 have\n",
        "4 all\n",
        "3 they\n",
        "3 one\n",
        "3 laugh\n",
        "3 i\n",
        "3 as\n",
        "3 and\n",
        "2 your\n",
        "2 who\n",
        "2 when\n",
        "2 to\n",
        "2 them\n",
        "2 so\n",
        "2 sky\n",
        "2 shall\n",
        "2 others\n",
        "2 no\n",
        "2 me\n",
        "2 little\n",
        "2 laughing\n",
        "2 it\n",
        "2 if\n",
        "2 but\n",
        "2 at\n",
        "1 youyou\n",
        "1 with\n",
        "1 window\n",
        "1 want\n",
        "1 travelers\n",
        "1 time\n",
        "1 things\n",
        "1 these\n",
        "1 than\n",
        "1 sorrows\n",
        "1 sorrow\n",
        "1 soothes\n",
        "1 sometimes\n",
        "1 some\n",
        "1 silent\n",
        "1 scholars\n",
        "1 same\n",
        "1 problems\n",
        "1 pleasure\n",
        "1 place\n",
        "1 people\n",
        "1 open\n",
        "1 only\n",
        "1 number\n",
        "1 not\n",
        "1 nightyou\n",
        "1 my\n",
        "1 more\n",
        "1 men\n",
        "1 look\n",
        "1 living\n",
        "1 lights\n",
        "1 known\n",
        "1 knew\n",
        "1 is\n",
        "1 how\n",
        "1 has\n",
        "1 had\n",
        "1 guides\n",
        "1 great\n",
        "1 given\n",
        "1 friend\n",
        "1 else\n",
        "1 different\n",
        "1 content\n",
        "1 comforted\n",
        "1 can\n",
        "1 bells\n",
        "1 always\n",
        "1 alone\n",
        "1 a\n"
       ]
      },
      {
       "metadata": {},
       "output_type": "pyout",
       "prompt_number": 28,
       "text": [
        "(array([ 51.,  17.,   6.,   5.,   0.,   1.,   0.,   3.,   2.,   1.]),\n",
        " array([ 1. ,  1.8,  2.6,  3.4,  4.2,  5. ,  5.8,  6.6,  7.4,  8.2,  9. ]),\n",
        " <a list of 10 Patch objects>)"
       ]
      },
      {
       "metadata": {},
       "output_type": "display_data",
       "png": "[encoded data removed]",
       "text": [
        "<matplotlib.figure.Figure at 0x10dc37b90>"
       ]
      }
     ],
     "prompt_number": 28
    },
    {
     "cell_type": "code",
     "collapsed": false,
     "input": [
      "# -*- coding: utf-8 -*-\n",
      "sentences = '\u548c\u5c1a\u7aef\u6e6f\u4e0a\u5854\u5854\u6ed1\u6e6f\u7051\u6e6f\u71d9\u5854\u548c\u5c1a\u7aef\u5854\u4e0a\u6e6f\u6e6f\u6ed1\u5854\u7051\u5854\u71d9\u6e6f'\n",
      "cdict = {}\n",
      "for ch in sentences.decode('utf-8'):\n",
      "    if not cdict.has_key(ch):\n",
      "        cdict[ch] = 0\n",
      "    cdict[ch] += 1\n",
      "print cdict\n",
      "for ch, f in cdict.items():\n",
      "    print ch, f"
     ],
     "language": "python",
     "metadata": {},
     "outputs": [
      {
       "output_type": "stream",
       "stream": "stdout",
       "text": [
        "{u'\\u7051': 2, u'\\u4e0a': 2, u'\\u548c': 2, u'\\u6e6f': 6, u'\\u6ed1': 2, u'\\u7aef': 2, u'\\u71d9': 2, u'\\u5c1a': 2, u'\\u5854': 6}\n",
        "\u7051 2\n",
        "\u4e0a 2\n",
        "\u548c 2\n",
        "\u6e6f 6\n",
        "\u6ed1 2\n",
        "\u7aef 2\n",
        "\u71d9 2\n",
        "\u5c1a 2\n",
        "\u5854 6\n"
       ]
      }
     ],
     "prompt_number": 9
    }
   ],
   "metadata": {}
  }
 ]
}