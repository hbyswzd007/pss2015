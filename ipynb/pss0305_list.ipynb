{
 "cells": [
  {
   "cell_type": "markdown",
   "metadata": {},
   "source": [
    "# List\n",
    "* A list of something, which means a sequence of something\n",
    "* Compared with list, dictionary, which focuses on mapping, does not have the sequential property."
   ]
  },
  {
   "cell_type": "code",
   "execution_count": 10,
   "metadata": {
    "collapsed": false
   },
   "outputs": [
    {
     "name": "stdout",
     "output_type": "stream",
     "text": [
      "6 9\n",
      "25\n",
      "9\n"
     ]
    }
   ],
   "source": [
    "alist = [9, 8, 7, 6, 5, 4, 3, 2, 1]\n",
    "print alist[3], alist[0]\n",
    "print alist[3] + alist[0] + 10\n",
    "print len(alist)"
   ]
  },
  {
   "cell_type": "markdown",
   "metadata": {},
   "source": [
    "## Slicing list\n",
    "* [python doc](https://docs.python.org/2/tutorial/introduction.html)"
   ]
  },
  {
   "cell_type": "code",
   "execution_count": 8,
   "metadata": {
    "collapsed": false
   },
   "outputs": [
    {
     "name": "stdout",
     "output_type": "stream",
     "text": [
      "[6, 5]\n",
      "[9, 8, 7]\n",
      "[6, 5, 4, 3, 2, 1]\n"
     ]
    }
   ],
   "source": [
    "print alist[3:5]\n",
    "print alist[:3]\n",
    "print alist[3:]"
   ]
  },
  {
   "cell_type": "markdown",
   "metadata": {},
   "source": [
    "## Printing out list"
   ]
  },
  {
   "cell_type": "code",
   "execution_count": 9,
   "metadata": {
    "collapsed": false
   },
   "outputs": [
    {
     "name": "stdout",
     "output_type": "stream",
     "text": [
      "9\n",
      "8\n",
      "7\n",
      "6\n",
      "5\n",
      "4\n",
      "3\n",
      "2\n",
      "1\n",
      "9\n",
      "8\n",
      "7\n",
      "6\n",
      "5\n",
      "4\n",
      "3\n",
      "2\n",
      "1\n",
      "0 9\n",
      "1 8\n",
      "2 7\n",
      "3 6\n",
      "4 5\n",
      "5 4\n",
      "6 3\n",
      "7 2\n",
      "8 1\n"
     ]
    }
   ],
   "source": [
    "for a in alist:\n",
    "    print a\n",
    "for i in range(len(alist)):\n",
    "    print alist[i]\n",
    "for i, a in enumerate(alist):\n",
    "    print i, a"
   ]
  }
 ],
 "metadata": {
  "kernelspec": {
   "display_name": "Python 2",
   "language": "python",
   "name": "python2"
  },
  "language_info": {
   "codemirror_mode": {
    "name": "ipython",
    "version": 2
   },
   "file_extension": ".py",
   "mimetype": "text/x-python",
   "name": "python",
   "nbconvert_exporter": "python",
   "pygments_lexer": "ipython2",
   "version": "2.7.6"
  }
 },
 "nbformat": 4,
 "nbformat_minor": 0
}
