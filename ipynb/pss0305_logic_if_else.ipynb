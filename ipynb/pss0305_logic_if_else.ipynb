{
 "cells": [
  {
   "cell_type": "markdown",
   "metadata": {},
   "source": [
    "# Logic operators\n",
    "* and\n",
    "* or\n",
    "* not\n",
    "* <, >, <=, >=, ==(equal to), !=(not equal to)"
   ]
  },
  {
   "cell_type": "code",
   "execution_count": 6,
   "metadata": {
    "collapsed": false
   },
   "outputs": [
    {
     "name": "stdout",
     "output_type": "stream",
     "text": [
      "False\n"
     ]
    }
   ],
   "source": [
    "a = 3\n",
    "b = 4\n",
    "c = 7\n",
    "d, e, f = 7, 8, 9 # suitable for assigning value with the same type\n",
    "print a+b != c"
   ]
  },
  {
   "cell_type": "markdown",
   "metadata": {},
   "source": [
    "# if-else, if-elif-else, if-elif-elif-else"
   ]
  },
  {
   "cell_type": "code",
   "execution_count": null,
   "metadata": {
    "collapsed": true
   },
   "outputs": [],
   "source": [
    "i=0\n",
    "f, p = 0, 0\n",
    "for i in range(5)\n",
    "    x = input(\"Enter a number\")\n",
    "    if x < 60:\n",
    "        f += 1\n",
    "    else:\n",
    "        p += 1\n",
    "\n",
    "print \"Fail:\", f, \"Pass:\", p"
   ]
  },
  {
   "cell_type": "code",
   "execution_count": 13,
   "metadata": {
    "collapsed": false
   },
   "outputs": [
    {
     "name": "stdout",
     "output_type": "stream",
     "text": [
      "Enter a number1\n",
      "Enter a number1\n",
      "Enter a number1\n",
      "Enter a number1\n",
      "Enter a number1\n",
      "Enter a number1\n",
      "Enter a number1\n",
      "Enter a number1\n",
      "Enter a number1\n",
      "Enter a number1\n",
      "Summation = 10.000000 Average = 1.000000\n"
     ]
    }
   ],
   "source": [
    "gsum = 0.0\n",
    "for i in range(10):\n",
    "    x = input(\"Enter a number\")\n",
    "    gsum  = gsum + x\n",
    "# avg = gsum/10\n",
    "# print \"Summation = \", gsum, \"Average = \", gsum/10\n",
    "print \"Summation = %f Average = %f\" %(gsum, gsum/10)"
   ]
  },
  {
   "cell_type": "code",
   "execution_count": 14,
   "metadata": {
    "collapsed": false
   },
   "outputs": [
    {
     "name": "stdout",
     "output_type": "stream",
     "text": [
      "Enter a number:1\n",
      "Enter a number:1\n",
      "Enter a number:1\n",
      "Enter a number:1\n",
      "Enter a number:1\n",
      "Enter a number:1\n",
      "Enter a number:1\n",
      "Enter a number:1\n",
      "Enter a number:1\n",
      "Enter a number:1\n",
      "0\n"
     ]
    }
   ],
   "source": [
    "p_ctr = 0   # initial value of p_ctr\n",
    "for i in range(10):\n",
    "    x = input(\"Enter a number:\")\n",
    "    if x >= 60:\n",
    "        p_ctr += 1\n",
    "    i += 1\n",
    "print p_ctr"
   ]
  },
  {
   "cell_type": "code",
   "execution_count": 1,
   "metadata": {
    "collapsed": false
   },
   "outputs": [
    {
     "name": "stdout",
     "output_type": "stream",
     "text": [
      "Enter a number:123\n",
      "Enter a number:321\n",
      "Enter a number:32\n",
      "Enter a number:42\n",
      "Enter a number:51\n",
      "FAIL:3\tPASS:2\t100:0\n"
     ]
    }
   ],
   "source": [
    "# 如果我希望計算,我輸⼊入這麼多的數,到底分別有幾個⼈人及格,不及格,100分,那怎麼辦?\n",
    "Fai, Pas, Hun = 0, 0, 0\n",
    "for i in range(5):\n",
    "    x = input(\"Enter a number:\")\n",
    "    if x <= 60:\n",
    "        Fai += 1\n",
    "    elif x == 100:\n",
    "        Hun += 1\n",
    "    else:\n",
    "        Pas += 1\n",
    "    i += 1\n",
    "# print Fai, Pas, Hun\n",
    "# print \"Fail:\", Fai, \"Pass:\", Pas,\"100:\", Hun\n",
    "\n",
    "print \"FAIL:%d\\tPASS:%d\\t100:%d\"%(Fai, Pas, Hun)\n"
   ]
  },
  {
   "cell_type": "markdown",
   "metadata": {},
   "source": [
    "## Nested condition"
   ]
  },
  {
   "cell_type": "code",
   "execution_count": 3,
   "metadata": {
    "collapsed": false
   },
   "outputs": [
    {
     "name": "stdout",
     "output_type": "stream",
     "text": [
      "9\n",
      "4\n",
      "10\n",
      "4\n",
      "1\n",
      "4\n",
      "4\n",
      "9\n",
      "9\n",
      "5\n"
     ]
    }
   ],
   "source": [
    "import random\n",
    "Fai, Pas, Hun = 0, 0, 0\n",
    "grades = [11, 22, 33, 44, 55, 66, 77, 88, 99, 100]\n",
    "for i in range(10):\n",
    "    random.randint(0, 100)\n",
    "    if x < 60:\n",
    "        Fai += 1\n",
    "    else:\n",
    "        if x == 100:\n",
    "            Hun += 1\n",
    "        Pas += 1"
   ]
  },
  {
   "cell_type": "code",
   "execution_count": 16,
   "metadata": {
    "collapsed": false
   },
   "outputs": [
    {
     "name": "stdout",
     "output_type": "stream",
     "text": [
      "Enter a number:1\n",
      "Enter a number:1\n",
      "Enter a number:1\n",
      "Enter a number:1\n",
      "Enter a number:1\n",
      "Enter a number:1\n",
      "Enter a number:1\n",
      "Enter a number:1\n",
      "Enter a number:1\n",
      "Enter a number:1\n",
      "Average = 1.000000\n"
     ]
    }
   ],
   "source": [
    "# 求取全班平均\n",
    "\n",
    "sum = 0.0\n",
    "for i in range(10):\n",
    "    x = input(\"Enter a number:\")\n",
    "    sum = sum + x\n",
    "avg = sum/10\n",
    "print \"Average = %f\"%(avg)"
   ]
  },
  {
   "cell_type": "code",
   "execution_count": 17,
   "metadata": {
    "collapsed": false
   },
   "outputs": [
    {
     "name": "stdout",
     "output_type": "stream",
     "text": [
      "Enter a number:1\n",
      "Enter a number:1\n",
      "Enter a number:1\n",
      "Enter a number:1\n",
      "Enter a number:1\n",
      "Enter a number:1\n",
      "Enter a number:1\n",
      "Enter a number:1\n",
      "Enter a number:1\n",
      "Enter a number:1\n",
      "FAIL:10\tPASS:0\t100:0\n"
     ]
    }
   ],
   "source": [
    "Fai, Pas, Hun = 0, 0, 0\n",
    "for i in range(10):\n",
    "    x = input(\"Enter a number:\")\n",
    "    if x <= 60:\n",
    "        Fai += 1\n",
    "    elif x == 100:\n",
    "        Hun += 1\n",
    "    else:\n",
    "        Pas += 1\n",
    "print \"FAIL:%d\\tPASS:%d\\t100:%d\"%(Fai, Pas, Hun)"
   ]
  },
  {
   "cell_type": "code",
   "execution_count": 17,
   "metadata": {
    "collapsed": false
   },
   "outputs": [],
   "source": []
  }
 ],
 "metadata": {
  "kernelspec": {
   "display_name": "Python 2",
   "language": "python",
   "name": "python2"
  },
  "language_info": {
   "codemirror_mode": {
    "name": "ipython",
    "version": 2
   },
   "file_extension": ".py",
   "mimetype": "text/x-python",
   "name": "python",
   "nbconvert_exporter": "python",
   "pygments_lexer": "ipython2",
   "version": "2.7.6"
  }
 },
 "nbformat": 4,
 "nbformat_minor": 0
}
