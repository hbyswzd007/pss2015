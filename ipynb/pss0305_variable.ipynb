{
 "cells": [
  {
   "cell_type": "markdown",
   "metadata": {},
   "source": [
    "# print\n",
    "* Operators\n",
    "    * __+__ is an operator to concatenate two __strings__\n",
    "    * __,__ is an operator to print everything separated by it\n",
    "* [String print formatting](https://docs.python.org/2/library/string.html)\n",
    "    * %d means printing as decimal number\n",
    "    * %s means printing as string\n",
    "    * %f means print as floating point number"
   ]
  },
  {
   "cell_type": "code",
   "execution_count": 2,
   "metadata": {
    "collapsed": false
   },
   "outputs": [
    {
     "name": "stdout",
     "output_type": "stream",
     "text": [
      "hellow world\n",
      "hellow world\n",
      "my name is jirlong\n",
      "my name is  jirlong\n",
      "my name is jirlong\n"
     ]
    }
   ],
   "source": [
    "# Hi! I am a comment! \n",
    "print \"hellow world\" \n",
    "print 'hellow world'\n",
    "\n",
    "# print a variable\n",
    "name = 'jirlong'\n",
    "print \"my name is \" + name \n",
    "\n",
    "# print with formatting\n",
    "print \"my name is \", name \n",
    "print \"my name is %s\"%(name)"
   ]
  },
  {
   "cell_type": "markdown",
   "metadata": {},
   "source": [
    "# +, -, *, **, /, %\n",
    "* ** - \"power of.\"\n",
    "* *%* - \"mod\" e.g., 5%3==2, 4%2==0.\n",
    "* */* - \"divide\" varied by data type of numberator and denominator"
   ]
  },
  {
   "cell_type": "code",
   "execution_count": 12,
   "metadata": {
    "collapsed": false
   },
   "outputs": [
    {
     "name": "stdout",
     "output_type": "stream",
     "text": [
      "50\n",
      "625\n",
      "jirlongjirlongjirlongjirlong\n"
     ]
    }
   ],
   "source": [
    "a, b = 5, 3\n",
    "print a+1+2+3+4+5+6+7+8+9 \n",
    "print a**4\n",
    "print name*4"
   ]
  },
  {
   "cell_type": "code",
   "execution_count": 19,
   "metadata": {
    "collapsed": false
   },
   "outputs": [
    {
     "name": "stdout",
     "output_type": "stream",
     "text": [
      "a/b= 1 a/b= 2\n",
      "a/b=1, a%b=2.000000\n",
      "1.66666666667\n",
      "1.66666666667\n",
      "2.0\n"
     ]
    },
    {
     "ename": "TypeError",
     "evalue": "unsupported operand type(s) for /: 'str' and 'int'",
     "output_type": "error",
     "traceback": [
      "\u001b[0;31m---------------------------------------------------------------------------\u001b[0m\n\u001b[0;31mTypeError\u001b[0m                                 Traceback (most recent call last)",
      "\u001b[0;32m<ipython-input-19-d2cdcce5ee13>\u001b[0m in \u001b[0;36m<module>\u001b[0;34m()\u001b[0m\n\u001b[1;32m      4\u001b[0m \u001b[0;32mprint\u001b[0m \u001b[0mfloat\u001b[0m\u001b[0;34m(\u001b[0m\u001b[0ma\u001b[0m\u001b[0;34m)\u001b[0m\u001b[0;34m/\u001b[0m\u001b[0mb\u001b[0m\u001b[0;34m\u001b[0m\u001b[0m\n\u001b[1;32m      5\u001b[0m \u001b[0;32mprint\u001b[0m \u001b[0;34m(\u001b[0m\u001b[0;34m(\u001b[0m\u001b[0ma\u001b[0m\u001b[0;34m+\u001b[0m\u001b[0mb\u001b[0m\u001b[0;34m)\u001b[0m\u001b[0;34m**\u001b[0m\u001b[0;36m2\u001b[0m\u001b[0;34m+\u001b[0m\u001b[0;34m(\u001b[0m\u001b[0ma\u001b[0m\u001b[0;34m-\u001b[0m\u001b[0mb\u001b[0m\u001b[0;34m)\u001b[0m\u001b[0;34m**\u001b[0m\u001b[0;36m2\u001b[0m\u001b[0;34m)\u001b[0m\u001b[0;34m/\u001b[0m\u001b[0mfloat\u001b[0m\u001b[0;34m(\u001b[0m\u001b[0ma\u001b[0m\u001b[0;34m**\u001b[0m\u001b[0;36m2\u001b[0m\u001b[0;34m+\u001b[0m\u001b[0mb\u001b[0m\u001b[0;34m**\u001b[0m\u001b[0;36m2\u001b[0m\u001b[0;34m)\u001b[0m\u001b[0;34m\u001b[0m\u001b[0m\n\u001b[0;32m----> 6\u001b[0;31m \u001b[0;32mprint\u001b[0m \u001b[0mstr\u001b[0m\u001b[0;34m(\u001b[0m\u001b[0ma\u001b[0m\u001b[0;34m)\u001b[0m\u001b[0;34m/\u001b[0m\u001b[0mb\u001b[0m\u001b[0;34m\u001b[0m\u001b[0m\n\u001b[0m",
      "\u001b[0;31mTypeError\u001b[0m: unsupported operand type(s) for /: 'str' and 'int'"
     ]
    }
   ],
   "source": [
    "print \"a/b=\", a/b, \"a/b=\", a%b\n",
    "print \"a/b=%d, a%%b=%f\"%(a/b, a%b)\n",
    "print a/float(b)\n",
    "print float(a)/b\n",
    "print ((a+b)**2+(a-b)**2)/float(a**2+b**2) \n",
    "print str(a)/b"
   ]
  },
  {
   "cell_type": "markdown",
   "metadata": {},
   "source": [
    "# Variable\n",
    "* Naming of variable\n",
    "    * 不可用數字開始，例如 123b = 13a + 14b。當然也不可以是中文。\n",
    "    * 中間不得有空白，例如 my book = 13a + 14b (why?)\n",
    "    * 不可使用[reserved word](https://docs.python.org/2.5/ref/keywords.html)(why?)\n",
    "* Data type\n",
    "    * Data type: Variable can be\n",
    "    * string: e.g., a = '12.3'\n",
    "    * floating point number: e.g., b = 12.3\n",
    "    * integer: e.g., c = 123\n",
    "    * list: alist = []\n",
    "    * dictionary: bdict = {1:2, 3:4, '5':6, '7':'8', 9:'10.11', 12:[13, 14, 15], 13:{14:'15', '16':[17, 18]}} \n",
    "    * tuple: ab = (1, 2, 3)"
   ]
  },
  {
   "cell_type": "code",
   "execution_count": 1,
   "metadata": {
    "collapsed": false
   },
   "outputs": [
    {
     "name": "stdout",
     "output_type": "stream",
     "text": [
      "<type 'str'> <type 'int'> <type 'float'>\n"
     ]
    }
   ],
   "source": [
    "a, b, c = '2', 2, 2.0\n",
    "print type(a), type(b), type(c)"
   ]
  },
  {
   "cell_type": "markdown",
   "metadata": {},
   "source": [
    "# Example. Converting Temperature format"
   ]
  },
  {
   "cell_type": "code",
   "execution_count": 4,
   "metadata": {
    "collapsed": false
   },
   "outputs": [
    {
     "name": "stdout",
     "output_type": "stream",
     "text": [
      "0.0\n"
     ]
    }
   ],
   "source": [
    "tf = 32\n",
    "tc = 5.0/9.0*(tf-32)\n",
    "print tc"
   ]
  },
  {
   "cell_type": "code",
   "execution_count": 6,
   "metadata": {
    "collapsed": false
   },
   "outputs": [
    {
     "name": "stdout",
     "output_type": "stream",
     "text": [
      "32.0\n"
     ]
    }
   ],
   "source": [
    "tc = 0\n",
    "tf = 9.0/5.0*tc + 32\n",
    "print tf"
   ]
  }
 ],
 "metadata": {
  "kernelspec": {
   "display_name": "Python 2",
   "language": "python",
   "name": "python2"
  },
  "language_info": {
   "codemirror_mode": {
    "name": "ipython",
    "version": 2
   },
   "file_extension": ".py",
   "mimetype": "text/x-python",
   "name": "python",
   "nbconvert_exporter": "python",
   "pygments_lexer": "ipython2",
   "version": "2.7.6"
  }
 },
 "nbformat": 4,
 "nbformat_minor": 0
}
